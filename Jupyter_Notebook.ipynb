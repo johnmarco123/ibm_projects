{
 "cells": [
  {
   "cell_type": "markdown",
   "metadata": {},
   "source": [
    "<center>\n",
    "    <img src=\"https://cf-courses-data.s3.us.cloud-object-storage.appdomain.cloud/IBMDeveloperSkillsNetwork-DS0105EN-SkillsNetwork/labs/Module2/images/SN_web_lightmode.png\" width=\"300\" alt=\"cognitiveclass.ai logo\"  />\n",
    "</center>\n"
   ]
  },
  {
   "cell_type": "markdown",
   "metadata": {},
   "source": [
    "#### Add your code below following the instructions given in the course\n"
   ]
  },
  {
   "cell_type": "markdown",
   "metadata": {},
   "source": [
    "<h1>My Jupyter Notebook</h1>"
   ]
  },
  {
   "cell_type": "markdown",
   "metadata": {},
   "source": [
    "<b>John-Marco</b>\n",
    "<p>I would like to work in artificial intelligence, and potentially look how it can be applied into veterinary medidicne</p>"
   ]
  },
  {
   "cell_type": "markdown",
   "metadata": {},
   "source": [
    "<i>I am interested in data science because it can further expand my artificial intelligence knowledge and help me understand algorithms on a deeper level</i>"
   ]
  },
  {
   "cell_type": "markdown",
   "metadata": {},
   "source": [
    "My program will multiply any input by 2 and return the value"
   ]
  },
  {
   "cell_type": "code",
   "execution_count": 2,
   "metadata": {},
   "outputs": [
    {
     "data": {
      "text/plain": [
       "10"
      ]
     },
     "execution_count": 2,
     "metadata": {},
     "output_type": "execute_result"
    }
   ],
   "source": [
    "def double(x):\n",
    "    return x * 2\n",
    "double(5)"
   ]
  },
  {
   "cell_type": "markdown",
   "metadata": {},
   "source": [
    "<hr>\n",
    "<hr>\n",
    "<hr>\n",
    "<ul>\n",
    "    <li>one</li>\n",
    "    <li>two</li>\n",
    "    <li>three</li>\n",
    "</ul>\n",
    "<ol>\n",
    "    <li>one</li>\n",
    "    <li>two</li>\n",
    "    <li>three</li>\n",
    "</ol>\n",
    "<table>\n",
    "    <tr>\n",
    "        <td>1 - 1</td>\n",
    "        <td>1 - 2</td>\n",
    "        <td>1 - 3</td>\n",
    "    </tr>\n",
    "    <tr>\n",
    "        <td>2 - 1</td>\n",
    "        <td>2 - 2</td>\n",
    "        <td>2 - 3</td>\n",
    "    </tr>\n",
    "    <tr>\n",
    "        <td>3 - 1</td>\n",
    "        <td>3 - 2</td>\n",
    "        <td>3 - 3</td>\n",
    "    </tr>\n",
    "</table>\n",
    "<a href=\"https://google.com\">link to google!</a>\n",
    "<img src=\"https://encrypted-tbn0.gstatic.com/images?q=tbn:ANd9GcRDZ2GX8hgb56S9Sj2VsawX4Lyxai81g7UnPg&usqp=CAU\">\n",
    "<h2 style=\"color:red\">this will be big and red!</h2>\n",
    "<blockquote>BLOCKQUOTE!</blockquote>\n",
    "<s>strike through!</s>\n",
    "         "
   ]
  },
  {
   "cell_type": "code",
   "execution_count": null,
   "metadata": {},
   "outputs": [],
   "source": []
  }
 ],
 "metadata": {
  "kernelspec": {
   "display_name": "Python 3 (ipykernel)",
   "language": "python",
   "name": "python3"
  },
  "language_info": {
   "codemirror_mode": {
    "name": "ipython",
    "version": 3
   },
   "file_extension": ".py",
   "mimetype": "text/x-python",
   "name": "python",
   "nbconvert_exporter": "python",
   "pygments_lexer": "ipython3",
   "version": "3.9.12"
  }
 },
 "nbformat": 4,
 "nbformat_minor": 4
}
